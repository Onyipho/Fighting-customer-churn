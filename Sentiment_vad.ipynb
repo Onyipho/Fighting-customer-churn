{
  "nbformat": 4,
  "nbformat_minor": 0,
  "metadata": {
    "colab": {
      "provenance": []
    },
    "kernelspec": {
      "name": "python3",
      "display_name": "Python 3"
    },
    "language_info": {
      "name": "python"
    }
  },
  "cells": [
    {
      "cell_type": "markdown",
      "source": [
        "**Sentiment Analyser With VADER**"
      ],
      "metadata": {
        "id": "WyovEPf8v10I"
      }
    },
    {
      "cell_type": "code",
      "execution_count": 1,
      "metadata": {
        "colab": {
          "base_uri": "https://localhost:8080/"
        },
        "id": "0rnX1sY2vy5Q",
        "outputId": "35ed5d89-e34a-417a-8f1f-da415ace2584"
      },
      "outputs": [
        {
          "output_type": "stream",
          "name": "stdout",
          "text": [
            "Sentiment of Feedback 1: positive\n",
            "Sentiment of Feedback 2: negative\n",
            "Sentiment of Feedback 3: negative\n"
          ]
        },
        {
          "output_type": "stream",
          "name": "stderr",
          "text": [
            "[nltk_data] Downloading package vader_lexicon to /root/nltk_data...\n"
          ]
        }
      ],
      "source": [
        "import nltk\n",
        "from nltk.sentiment import SentimentIntensityAnalyzer\n",
        "\n",
        "# Download NLTK resources if not already downloaded\n",
        "nltk.download('vader_lexicon')\n",
        "\n",
        "# Initialize the VADER sentiment analyzer\n",
        "sia = SentimentIntensityAnalyzer()\n",
        "\n",
        "def analyze_sentiment(text):\n",
        "    \"\"\"\n",
        "    Analyzes the sentiment of the given text.\n",
        "\n",
        "    Parameters:\n",
        "        text (str): The text to analyze.\n",
        "\n",
        "    Returns:\n",
        "        str: The sentiment label ('positive', 'neutral', or 'negative').\n",
        "    \"\"\"\n",
        "    # Analyze sentiment using VADER\n",
        "    scores = sia.polarity_scores(text)\n",
        "\n",
        "    # Determine the sentiment label based on compound score\n",
        "    if scores['compound'] >= 0.05:\n",
        "        return 'positive'\n",
        "    elif scores['compound'] <= -0.05:\n",
        "        return 'negative'\n",
        "    else:\n",
        "        return 'neutral'\n",
        "\n",
        "# Example usage\n",
        "feedback1 = \"I'm extremely satisfied with the service provided!\"\n",
        "feedback2 = \"The service was terrible, I'm never using this again.\"\n",
        "feedback3 = \"The service was average, nothing special.\"\n",
        "\n",
        "sentiment1 = analyze_sentiment(feedback1)\n",
        "sentiment2 = analyze_sentiment(feedback2)\n",
        "sentiment3 = analyze_sentiment(feedback3)\n",
        "\n",
        "print(\"Sentiment of Feedback 1:\", sentiment1)\n",
        "print(\"Sentiment of Feedback 2:\", sentiment2)\n",
        "print(\"Sentiment of Feedback 3:\", sentiment3)\n"
      ]
    }
  ]
}